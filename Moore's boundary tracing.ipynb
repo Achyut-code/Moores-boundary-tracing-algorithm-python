{
 "cells": [
  {
   "cell_type": "code",
   "execution_count": 1,
   "metadata": {},
   "outputs": [],
   "source": [
    "import matplotlib.pyplot as plt\n",
    "import numpy as np\n",
    "import cv2"
   ]
  },
  {
   "cell_type": "code",
   "execution_count": null,
   "metadata": {},
   "outputs": [],
   "source": [
    "chirag = cv2.imread('chirag.jfif')\n",
    "gray_img = cv2.cvtColor(chirag, cv2.COLOR_BGR2GRAY)\n",
    "_,img = cv2.threshold(gray_img, 225,255, cv2.THRESH_BINARY_INV)\n",
    "img = cv2.medianBlur(img, 3)\n",
    "B=[]\n",
    "starting_pixel = list(zip(*np.where(img == 255))) \n",
    "B_x = starting_pixel[0][0]\n",
    "B_y = starting_pixel[0][1]\n",
    "B.append(starting_pixel[0])\n",
    "\n",
    "b_x = starting_pixel[0][0]\n",
    "b_y = starting_pixel[0][1]-1\n",
    "\n",
    "d_x = b_x - B_x\n",
    "d_y = b_y - B_y\n",
    "\n",
    "offsetTable = [(0,0),(0,-1),(-1,-1),(-1,0),(-1,1),(0,1),(1,1),(1,0),(1,-1)]\n",
    "count = 1\n",
    "contour = np.zeros((chirag.shape))\n",
    "while(count<=2):\n",
    "    id=0\n",
    "    for i in range(9):\n",
    "        if(d_x == offsetTable[i][0] and d_y == offsetTable[i][1]):\n",
    "            id = i            \n",
    "            break\n",
    "    \n",
    "    while(True):\n",
    "        if(id == 8):\n",
    "            id = 0       \n",
    "        c_x=B_x+offsetTable[id+1][0]\n",
    "        c_y=B_y+offsetTable[id+1][1]        \n",
    "        if (img[c_x][c_y]!=0):\n",
    "            B_x = c_x\n",
    "            B_y = c_y                       \n",
    "            temp = (B_x,B_y)           \n",
    "            if (temp in B)==True:\n",
    "                count += 1\n",
    "            B.append((B_x,B_y))\n",
    "            d_x = prev_x-B_x\n",
    "            d_y = prev_y-B_y\n",
    "            break\n",
    "        prev_x = c_x\n",
    "        prev_y = c_y        \n",
    "        id += 1\n",
    "for pixel in range(len(B)):\n",
    "      contour[B[pixel][0]][B[pixel][1]] = [0,255,0]\n",
    "cv2.imshow('Image', chirag)\n",
    "cv2.imshow('Image_binary', img)\n",
    "cv2.imshow('Image_contour', contour)\n",
    "cv2.waitKey(0)\n",
    "cv2.destroyAllWindows()"
   ]
  }
 ],
 "metadata": {
  "kernelspec": {
   "display_name": "gputest",
   "language": "python",
   "name": "gputest"
  },
  "language_info": {
   "codemirror_mode": {
    "name": "ipython",
    "version": 3
   },
   "file_extension": ".py",
   "mimetype": "text/x-python",
   "name": "python",
   "nbconvert_exporter": "python",
   "pygments_lexer": "ipython3",
   "version": "3.7.6"
  }
 },
 "nbformat": 4,
 "nbformat_minor": 4
}
